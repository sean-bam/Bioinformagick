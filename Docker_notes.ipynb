{
 "cells": [
  {
   "cell_type": "markdown",
   "metadata": {},
   "source": [
    "# Notes on using Docker"
   ]
  },
  {
   "cell_type": "markdown",
   "metadata": {},
   "source": [
    "## References \n",
    "- [Best practices on building in Docker](https://docs.docker.com/develop/develop-images/dockerfile_best-practices/)\n",
    "- [Getting started](https://docs.docker.com/get-started/)"
   ]
  },
  {
   "cell_type": "markdown",
   "metadata": {},
   "source": [
    "## Installation "
   ]
  },
  {
   "cell_type": "markdown",
   "metadata": {},
   "source": [
    "One of the weird things with windows is that you have to install Windows Subsystem for Linux first. To do that, I opened up a powershell *as an administrator* (right click --> 'run as adminstrator') then ran the install command.\n",
    "\n",
    "I followed the [instructions](https://docs.docker.com/desktop/windows/install/) to install Docker and DockerDesktop for windows.\n",
    "\n",
    "I can now run Docker from Powershell, WSL, or Dockerhub. I'm not sure which is better."
   ]
  },
  {
   "cell_type": "markdown",
   "metadata": {},
   "source": [
    "## Building images"
   ]
  },
  {
   "cell_type": "markdown",
   "metadata": {},
   "source": [
    "To build an image named `image_name` using the provided Dockerfile:\n",
    ">docker build -t image_name path/to/Dockerfile\n",
    "\n",
    "A Dockerfile looks like the following:"
   ]
  },
  {
   "cell_type": "markdown",
   "metadata": {},
   "source": [
    "```\n",
    "FROM debian:latest\n",
    "\n",
    "\n",
    "# Update packages in base image, avoid caching issues by combining statements, install build software and deps\n",
    "RUN\tapt-get update && apt-get install -y build-essential git pkg-config libssl-dev bzip2 wget zlib1g-dev libswscale-dev gettext nettle-dev libgmp-dev libssh2-1-dev libgnutls28-dev libc-ares-dev libxml2-dev libsqlite3-dev autoconf libtool libcppunit-dev automake autotools-dev autopoint && \\\n",
    "\t#Install aria2 from git, cleaning up and removing all build footprint\t\n",
    "\tgit clone https://github.com/tatsuhiro-t/aria2.git /opt/aria2 && \\\n",
    "\tcd /opt/aria2 && \\\n",
    "\tautoreconf -i && ./configure && \\\n",
    "\tmake && make install \n",
    "\n",
    "CMD [\"/usr/local/bin/aria2c\",\"--conf-path=/config/aria2.conf\"]\n",
    "```\n"
   ]
  },
  {
   "cell_type": "markdown",
   "metadata": {},
   "source": [
    "## Running images"
   ]
  },
  {
   "cell_type": "markdown",
   "metadata": {},
   "source": [
    "To run a docker image, interactively, named 'downloader', mounting the current working directory to `mnt`:\n",
    ">docker run -it -v \"$(pwd):/mnt\" downloader    "
   ]
  },
  {
   "cell_type": "markdown",
   "metadata": {},
   "source": [
    "To re-attach (-a) to a stopped docker container, interactively (-i)\n",
    ">docker start -a -i {container_id}"
   ]
  },
  {
   "cell_type": "code",
   "execution_count": null,
   "metadata": {},
   "outputs": [],
   "source": []
  }
 ],
 "metadata": {
  "kernelspec": {
   "display_name": "Python 3",
   "language": "python",
   "name": "python3"
  },
  "language_info": {
   "codemirror_mode": {
    "name": "ipython",
    "version": 3
   },
   "file_extension": ".py",
   "mimetype": "text/x-python",
   "name": "python",
   "nbconvert_exporter": "python",
   "pygments_lexer": "ipython3",
   "version": "3.7.3"
  }
 },
 "nbformat": 4,
 "nbformat_minor": 4
}
